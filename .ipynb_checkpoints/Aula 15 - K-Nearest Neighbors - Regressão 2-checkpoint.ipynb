{
 "cells": [
  {
   "cell_type": "code",
   "execution_count": null,
   "metadata": {
    "collapsed": true
   },
   "outputs": [],
   "source": [
    "# Fontes\n",
    "# http://scikit-learn.org/stable/modules/generated/sklearn.datasets.make_regression.html#sklearn.datasets.make_regression\n",
    "# https://matplotlib.org/gallery/lines_bars_and_markers/scatter_masked.html#sphx-glr-gallery-lines-bars-and-markers-scatter-masked-py\n",
    "# https://matplotlib.org/api/_as_gen/matplotlib.pyplot.xticks.html"
   ]
  },
  {
   "cell_type": "code",
   "execution_count": null,
   "metadata": {
    "collapsed": true
   },
   "outputs": [],
   "source": [
    "# Importação das bibliotecas necessárias\n",
    "\n",
    "%matplotlib inline\n",
    "import pandas as pd\n",
    "import numpy as np\n",
    "import matplotlib.pyplot as plt\n",
    "from sklearn.model_selection import train_test_split\n",
    "from sklearn.neighbors import KNeighborsRegressor\n"
   ]
  },
  {
   "cell_type": "code",
   "execution_count": null,
   "metadata": {},
   "outputs": [],
   "source": [
    "# Criando dados de regressão\n",
    "from sklearn.datasets import make_regression\n",
    "X, Y = make_regression(n_samples = 150, n_features = 1, noise = 30, random_state = 5)\n",
    "\n",
    "plt.scatter(X, Y)\n",
    "plt.show()"
   ]
  },
  {
   "cell_type": "code",
   "execution_count": null,
   "metadata": {
    "collapsed": true
   },
   "outputs": [],
   "source": [
    "# Função que retorna os resultados do modelo\n",
    "def retornaResultadosModeloKNN_Regressao(random_state, quantidade, dados, respostas):\n",
    "    #Divisão entre observações de teste e observações de treino\n",
    "    X_train, X_test, y_train, y_test = train_test_split(dados, respostas, random_state = random_state)\n",
    "    # Vetores de armazenamento dos resultados de teste e de treino\n",
    "    quantidade_k = range(1,quantidade + 1)\n",
    "    res_teste = []\n",
    "    res_treino = []\n",
    "    \n",
    "    # loop das classificações\n",
    "\n",
    "    for i in quantidade_k:\n",
    "        knn = KNeighborsRegressor(n_neighbors = i)\n",
    "        knn.fit(X_train, y_train)\n",
    "\n",
    "        # Adicionando os valores dos resultados a seus respectivos vetores\n",
    "        res_treino.append(knn.score(X_train, y_train))\n",
    "        res_teste.append(knn.score(X_test, y_test))\n",
    "        \n",
    "    return quantidade_k, res_treino, res_teste"
   ]
  },
  {
   "cell_type": "code",
   "execution_count": null,
   "metadata": {},
   "outputs": [],
   "source": [
    "# Exibindo as linhas de predição\n",
    "legendas = [\"Linha de prediçao\", \"Treino\", \"Teste\"]\n",
    "figura, eixos = plt.subplots(1, 3, figsize=(15,5))\n",
    "X_train, X_test, y_train, y_test = train_test_split(X,Y, random_state = 1)\n",
    "\n",
    "# Código para criar a linha de predição dos dados de treino\n",
    "# onde é criado 1.000 valores igualmente espaçados entre -3 e 3\n",
    "linha = np.linspace(-3, 3, 1000).reshape(-1, 1)\n",
    "\n",
    "for n_neighbors, ex in zip([1,3,9], eixos):\n",
    "    reg = KNeighborsRegressor(n_neighbors = n_neighbors)\n",
    "    reg.fit(X_train, y_train)\n",
    "    ex.plot(linha, reg.predict(linha))\n",
    "    ex.plot(X_train, y_train, '^', markersize=5)\n",
    "    ex.plot(X_test, y_test, 'v', markersize=8)\n",
    "    \n",
    "    ex.set_title(\"{} neighbors\\n Treino: {:.2f} - Teste: {:.2f}\".format(n_neighbors, reg.score(X_train, y_train), reg.score(X_test, y_test)))\n",
    "\n",
    "eixos[0].legend(legendas)\n",
    "\n",
    "plt.plot()"
   ]
  },
  {
   "cell_type": "code",
   "execution_count": null,
   "metadata": {},
   "outputs": [],
   "source": [
    "dados = X\n",
    "respostas = Y\n",
    "\n",
    "legendas = [\"Treino\", \"Teste\"]\n",
    "quantidade = 20\n",
    "rand = 5\n",
    "quantidade_k, res_treino, res_teste = retornaResultadosModeloKNN_Regressao(rand, quantidade, dados, respostas)\n",
    "plt.rcParams[\"figure.figsize\"] = [8,8]\n",
    "plt.plot(res_treino)\n",
    "plt.plot(res_teste)\n",
    "plt.legend(legendas)\n",
    "plt.grid(True)\n",
    "plt.xticks(np.arange(0,20, step=1))\n",
    "plt.show()"
   ]
  }
 ],
 "metadata": {
  "kernelspec": {
   "display_name": "Python 3",
   "language": "python",
   "name": "python3"
  },
  "language_info": {
   "codemirror_mode": {
    "name": "ipython",
    "version": 3
   },
   "file_extension": ".py",
   "mimetype": "text/x-python",
   "name": "python",
   "nbconvert_exporter": "python",
   "pygments_lexer": "ipython3",
   "version": "3.6.2"
  }
 },
 "nbformat": 4,
 "nbformat_minor": 2
}
