{
 "cells": [
  {
   "cell_type": "code",
   "execution_count": 1,
   "metadata": {
    "collapsed": true
   },
   "outputs": [],
   "source": [
    "# Importação das bibliotecas necessárias\n",
    "\n",
    "%matplotlib inline\n",
    "import pandas as pd\n",
    "import numpy as np\n",
    "import matplotlib.pyplot as plt\n",
    "from sklearn.model_selection import train_test_split\n",
    "from sklearn.neighbors import KNeighborsRegressor\n"
   ]
  },
  {
   "cell_type": "code",
   "execution_count": 6,
   "metadata": {},
   "outputs": [
    {
     "data": {
      "image/png": "[encoded data removed]",
      "text/plain": [
       "<matplotlib.figure.Figure at 0x1fdf4b1ca90>"
      ]
     },
     "metadata": {},
     "output_type": "display_data"
    }
   ],
   "source": [
    "# Criando dados de regressão\n",
    "from sklearn.datasets import make_regression\n",
    "X, Y = make_regression(n_samples = 100, n_features = 1, noise = 30, random_state = 5)\n",
    "\n",
    "plt.scatter(X, Y)\n",
    "plt.show()"
   ]
  },
  {
   "cell_type": "code",
   "execution_count": null,
   "metadata": {
    "collapsed": true
   },
   "outputs": [],
   "source": [
    "# Função que retorna os resultados do modelo\n",
    "def retornaResultadosModeloKNN_Regressao(random_state, quantidade, dados, respostas):\n",
    "    #Divisão entre observações de teste e observações de treino\n",
    "    X_train, X_test, y_train, y_test = train_test_split(dados, respostas, random_state = random_state)\n",
    "    # Vetores de armazenamento dos resultados de teste e de treino\n",
    "    quantidade_k = range(1,quantidade + 1)\n",
    "    res_teste = []\n",
    "    res_treino = []\n",
    "    \n",
    "    # loop das classificações\n",
    "\n",
    "    for i in quantidade_k:\n",
    "        knn = KNeighborsRegressor(n_neighbors = i)\n",
    "        knn.fit(X_train, y_train)\n",
    "\n",
    "        # Adicionando os valores dos resultados a seus respectivos vetores\n",
    "        res_treino.append(knn.score(X_train, y_train))\n",
    "        res_teste.append(knn.score(X_test, y_test))\n",
    "        \n",
    "    return quantidade_k, res_treino, res_teste"
   ]
  },
  {
   "cell_type": "code",
   "execution_count": null,
   "metadata": {
    "collapsed": true
   },
   "outputs": [],
   "source": [
    "# Função que retorna os resultados do modelo\n",
    "def retornaResultadosModeloKNN_Regressao(random_state, quantidade, dados, respostas):\n",
    "    #Divisão entre observações de teste e observações de treino\n",
    "    X_train, X_test, y_train, y_test = train_test_split(dados, respostas, random_state = random_state)\n",
    "    # Vetores de armazenamento dos resultados de teste e de treino\n",
    "    quantidade_k = range(1,quantidade)\n",
    "    res_teste = []\n",
    "    res_treino = []\n",
    "    \n",
    "    # loop das classificações\n",
    "\n",
    "    for i in quantidade_k:\n",
    "        knn = KNeighborsRegressor(n_neighbors = i)\n",
    "        knn.fit(X_train, y_train)\n",
    "\n",
    "        # Adicionando os valores dos resultados a seus respectivos vetores\n",
    "        res_treino.append(knn.score(X_train, y_train))\n",
    "        res_teste.append(knn.score(X_test, y_test))\n",
    "        \n",
    "    return quantidade_k, res_treino, res_teste"
   ]
  },
  {
   "cell_type": "code",
   "execution_count": null,
   "metadata": {},
   "outputs": [],
   "source": [
    "# Print de alguns resultados\n",
    "quantidade_k, res_treino, res_teste = retornaResultadosModeloKNN_Regressao(1, 20, X, Y)\n",
    "i = 4\n",
    "print(\"Treino {} : {}\".format(i, res_treino[i]))\n",
    "print(\"Teste {} : {}\".format(i, res_teste[i]))"
   ]
  },
  {
   "cell_type": "code",
   "execution_count": null,
   "metadata": {},
   "outputs": [],
   "source": [
    "# Plot dos gráficos com os seguintes randoms 1, 5, 20, 550\n",
    "dados = X\n",
    "respostas = Y\n",
    "\n",
    "legendas = [\"Treino\", \"Teste\"]\n",
    "quantidade = 20\n",
    "rand = 1\n",
    "f, axarr = plt.subplots(2,2)\n",
    "plt.rcParams[\"figure.figsize\"] = [12,12]\n",
    "plt.setp(axarr, xticks=np.arange(0,20, step=1))\n",
    "quantidade_k, res_treino, res_teste = retornaResultadosModeloKNN_Regressao(rand, quantidade, dados, respostas)\n",
    "axarr[0,0].plot(res_treino)\n",
    "axarr[0,0].plot(res_teste)\n",
    "axarr[0,0].grid(True)\n",
    "axarr[0,0].set_title(\"Rand 1\")\n",
    "axarr[0,0].legend(legendas)\n",
    "\n",
    "# Rand 5\n",
    "rand = 5\n",
    "quantidade_k, res_treino, res_teste = retornaResultadosModeloKNN_Regressao(rand, quantidade, dados, respostas)\n",
    "axarr[0,1].plot(res_treino)\n",
    "axarr[0,1].plot(res_teste)\n",
    "axarr[0,1].grid(True)\n",
    "axarr[0,1].set_title(\"Rand 5\")\n",
    "axarr[0,1].legend(legendas)\n",
    "\n",
    "#Rand 20\n",
    "rand = 20\n",
    "quantidade_k, res_treino, res_teste = retornaResultadosModeloKNN_Regressao(rand, quantidade, dados, respostas)\n",
    "axarr[1,0].plot(res_treino)\n",
    "axarr[1,0].plot(res_teste)\n",
    "axarr[1,0].grid(True)\n",
    "axarr[1,0].set_title(\"Rand 20\")\n",
    "axarr[1,0].legend(legendas)\n",
    "\n",
    "#Rand 550\n",
    "rand = 550\n",
    "quantidade_k, res_treino, res_teste = retornaResultadosModeloKNN_Regressao(rand, quantidade, dados, respostas)\n",
    "axarr[1,1].plot(res_treino)\n",
    "axarr[1,1].plot(res_teste)\n",
    "axarr[1,1].grid(True)\n",
    "axarr[1,1].set_title(\"Rand 550\")\n",
    "axarr[1,1].legend(legendas)\n",
    "\n",
    "#plt.setp([a.get_xticklabels() for a in axarr[0, :]], visible=False)\n",
    "#plt.setp([a.get_yticklabels() for a in axarr[:, 1]], visible=False)\n",
    "\n",
    "plt.show()"
   ]
  }
 ],
 "metadata": {
  "kernelspec": {
   "display_name": "Python 3",
   "language": "python",
   "name": "python3"
  },
  "language_info": {
   "codemirror_mode": {
    "name": "ipython",
    "version": 3
   },
   "file_extension": ".py",
   "mimetype": "text/x-python",
   "name": "python",
   "nbconvert_exporter": "python",
   "pygments_lexer": "ipython3",
   "version": "3.6.2"
  }
 },
 "nbformat": 4,
 "nbformat_minor": 2
}
